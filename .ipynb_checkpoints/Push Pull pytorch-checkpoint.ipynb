{
 "cells": [
  {
   "cell_type": "markdown",
   "id": "3d14f326",
   "metadata": {},
   "source": [
    "# Push Pull Implementation with Pytorch & NetworkX\n",
    "The reason we use pytorch is to be able to use automatic differentiation. This makes implementing gradient based methods so much easier and more flexible. For now, because of visualization purposes, we will work in $\\mathbb{R}^2$. However, everything implemented in pytorch should work in $\\mathbb{R}^n$"
   ]
  },
  {
   "cell_type": "code",
   "execution_count": 43,
   "id": "5f28837e",
   "metadata": {},
   "outputs": [],
   "source": [
    "import torch\n",
    "import matplotlib.pyplot as plt\n",
    "import networkx as nx"
   ]
  },
  {
   "cell_type": "code",
   "execution_count": 81,
   "id": "c50cae75",
   "metadata": {},
   "outputs": [],
   "source": [
    "# class RectangleConstraint\n",
    "# ranges is a list in the form\n",
    "# [(l1, u1), (l2,u2), ...]\n",
    "# where (ln, un) are the lower and upper bounds for dimension n\n",
    "class RectangleConstraint():\n",
    "    def __init__(self, ranges):\n",
    "        self.lowers = torch.tensor([r[0] for r in ranges])\n",
    "        self.uppers = torch.tensor([r[1] for r in ranges])\n",
    "    \n",
    "    # return the projection of x onto the convex set described by the constraints above\n",
    "    # projection works when you supply a matrix where row i is agent i's decision variable vector\n",
    "    def project(self, x, with_grad = False):\n",
    "        if not with_grad:\n",
    "            with torch.no_grad():\n",
    "                x = torch.minimum(x, self.uppers)\n",
    "                x = torch.maximum(x, self.lowers)\n",
    "                return x\n",
    "        else:\n",
    "            x = torch.minimum(x, self.uppers)\n",
    "            x = torch.maximum(x, self.lowers)\n",
    "            return x\n",
    "\n",
    "    # return true if point is feasible\n",
    "    # again, each row of x can be an agent's vector and will return a vector whose element i is true \n",
    "    # iff agent x's vector is feasible\n",
    "    def feasible(self, x):\n",
    "        with torch.no_grad():\n",
    "            constraint_sat = torch.cat([x >= self.lowers, x <= self.uppers], dim=-1)\n",
    "            return torch.all(constraint_sat, dim=1)"
   ]
  },
  {
   "cell_type": "code",
   "execution_count": 177,
   "id": "4b47284e",
   "metadata": {},
   "outputs": [],
   "source": [
    "# Quadratic objective (x-x_0)^T P (x-x_0)\n",
    "# if passing multiple vectors, make sure the rows are the decision variables\n",
    "# ie, x[i] is agent i's decision variable and has the same dimension as x_0\n",
    "class QuadraticObjective:\n",
    "    def __init__(self, P, x_0):\n",
    "        self.P = P\n",
    "        self.x_0 = x_0\n",
    "    \n",
    "    def __call__(self, x):\n",
    "        x_p = x-x_0\n",
    "        intermediate = (x_p @ P) * x_p\n",
    "        return intermediate.sum(dim=1)\n",
    "   \n",
    "    def plot(self, ranges = [[0, 5], [0, 5]]):\n",
    "        with torch.no_grad():\n",
    "            pass\n",
    "\n",
    "# allows different objectives for different agents\n",
    "class MultiAgentObjective:\n",
    "    def __init__(self, objectives):\n",
    "        self.objectives = objectives\n",
    "    \n",
    "    def __call__(self, x):\n",
    "        objectives = torch.zeros(x.shape[0])\n",
    "        for i in range(x.shape[0]):\n",
    "            objectives[i] = self.objectives[i](x[i])\n",
    "        return objectives\n",
    "    \n",
    "    # plot the sum (or average) of the objectives\n",
    "    def plot(self, ranges = [[0, 5], [0,5]]):\n",
    "        with torch.no_grad():\n",
    "            pass\n",
    "        \n",
    "# we need this because otherwise we cannot backward losses of each agent\n",
    "# because torch.backward() works only for a scalar loss, we need to iterate over the \n",
    "# agents' objectives and call backward() for each agent\n",
    "def multi_backward(objective):\n",
    "    for i, item in enumerate(objective):\n",
    "        item.backward(retain_graph=True)"
   ]
  },
  {
   "cell_type": "markdown",
   "id": "8b05251e",
   "metadata": {},
   "source": [
    "### Gradient Implementation\n",
    "In push-pull (and other distributed optimization algorithms) agents can only evaluate their own gradients. Hence, it would make sense that each row of `x.grad` contains the gradients of the agent that corresponds to that row. Thus, after the calls\n",
    "```\n",
    "    obj = q(x)\n",
    "    multi_backward(obj)\n",
    "```\n",
    "\n",
    "`x.grad` will contain the gradients $\\nabla f(x_i)$. ie. `x.grad[i]` is $\\nabla f(x_i)$. Below is a sample implementation of gradient descent for each agent simultaneously"
   ]
  },
  {
   "cell_type": "code",
   "execution_count": 178,
   "id": "ccc0f7c6",
   "metadata": {},
   "outputs": [
    {
     "ename": "AssertionError",
     "evalue": "",
     "output_type": "error",
     "traceback": [
      "\u001b[0;31m---------------------------------------------------------------------------\u001b[0m",
      "\u001b[0;31mAssertionError\u001b[0m                            Traceback (most recent call last)",
      "Cell \u001b[0;32mIn[178], line 23\u001b[0m\n\u001b[1;32m     20\u001b[0m eta \u001b[38;5;241m=\u001b[39m \u001b[38;5;241m0.1\u001b[39m\n\u001b[1;32m     22\u001b[0m \u001b[38;5;28;01mfor\u001b[39;00m iteration \u001b[38;5;129;01min\u001b[39;00m \u001b[38;5;28mrange\u001b[39m(num_iterations):\n\u001b[0;32m---> 23\u001b[0m     loss \u001b[38;5;241m=\u001b[39m \u001b[43mm\u001b[49m\u001b[43m(\u001b[49m\u001b[43mx\u001b[49m\u001b[43m)\u001b[49m\n\u001b[1;32m     24\u001b[0m     multi_backward(loss)\n\u001b[1;32m     26\u001b[0m     \u001b[38;5;28;01mwith\u001b[39;00m torch\u001b[38;5;241m.\u001b[39mno_grad():\n",
      "Cell \u001b[0;32mIn[177], line 27\u001b[0m, in \u001b[0;36mMultiAgentObjective.__call__\u001b[0;34m(self, x)\u001b[0m\n\u001b[1;32m     25\u001b[0m objectives \u001b[38;5;241m=\u001b[39m torch\u001b[38;5;241m.\u001b[39mzeros(x\u001b[38;5;241m.\u001b[39mshape[\u001b[38;5;241m0\u001b[39m])\n\u001b[1;32m     26\u001b[0m \u001b[38;5;28;01mfor\u001b[39;00m i \u001b[38;5;129;01min\u001b[39;00m \u001b[38;5;28mrange\u001b[39m(x\u001b[38;5;241m.\u001b[39mshape[\u001b[38;5;241m0\u001b[39m]):\n\u001b[0;32m---> 27\u001b[0m     objectives[i] \u001b[38;5;241m=\u001b[39m \u001b[38;5;28;43mself\u001b[39;49m\u001b[38;5;241;43m.\u001b[39;49m\u001b[43mobjectives\u001b[49m\u001b[43m[\u001b[49m\u001b[43mi\u001b[49m\u001b[43m]\u001b[49m\u001b[43m(\u001b[49m\u001b[43mx\u001b[49m\u001b[43m[\u001b[49m\u001b[43mi\u001b[49m\u001b[43m]\u001b[49m\u001b[43m)\u001b[49m\n\u001b[1;32m     28\u001b[0m \u001b[38;5;28;01mreturn\u001b[39;00m objectives\n",
      "Cell \u001b[0;32mIn[177], line 10\u001b[0m, in \u001b[0;36mQuadraticObjective.__call__\u001b[0;34m(self, x)\u001b[0m\n\u001b[1;32m      9\u001b[0m \u001b[38;5;28;01mdef\u001b[39;00m \u001b[38;5;21m__call__\u001b[39m(\u001b[38;5;28mself\u001b[39m, x):\n\u001b[0;32m---> 10\u001b[0m     \u001b[38;5;28;01massert\u001b[39;00m(x[\u001b[38;5;241m0\u001b[39m]\u001b[38;5;241m.\u001b[39mshape \u001b[38;5;241m==\u001b[39m \u001b[38;5;28mself\u001b[39m\u001b[38;5;241m.\u001b[39mx_0\u001b[38;5;241m.\u001b[39mshape)\n\u001b[1;32m     11\u001b[0m     x_p \u001b[38;5;241m=\u001b[39m x\u001b[38;5;241m-\u001b[39mx_0\n\u001b[1;32m     12\u001b[0m     intermediate \u001b[38;5;241m=\u001b[39m (x_p \u001b[38;5;241m@\u001b[39m P) \u001b[38;5;241m*\u001b[39m x_p\n",
      "\u001b[0;31mAssertionError\u001b[0m: "
     ]
    }
   ],
   "source": [
    "P = torch.tensor([[1, 0], \n",
    "                  [0, 1]], dtype=torch.float64, requires_grad = False)\n",
    "x_0 = torch.tensor([4, 3], dtype=torch.float64, requires_grad = False)\n",
    "q = QuadraticObjective(P, x_0)\n",
    "\n",
    "objectives = []\n",
    "for i in range(n_agents):\n",
    "    xi = torch.tensor([i+1, i+1], dtype=torch.float64, requires_grad=False)\n",
    "    qi = QuadraticObjective(P, xi)\n",
    "    objectives.append(qi)\n",
    "\n",
    "m = MultiAgentObjective(objectives)\n",
    "    \n",
    "x = torch.tensor([[0, 3],\n",
    "                  [4, 5],\n",
    "                  [10, 10],\n",
    "                  [0,0]], dtype = torch.float64, requires_grad=True)\n",
    "\n",
    "num_iterations = 50\n",
    "eta = 0.1\n",
    "\n",
    "for iteration in range(num_iterations):\n",
    "    loss = m(x)\n",
    "    multi_backward(loss)\n",
    "\n",
    "    with torch.no_grad():\n",
    "        x -= eta * x.grad\n",
    "        x.grad.zero_()"
   ]
  },
  {
   "cell_type": "markdown",
   "id": "8d05f93f",
   "metadata": {},
   "source": [
    "### Graph Implementation"
   ]
  },
  {
   "cell_type": "code",
   "execution_count": 168,
   "id": "1d9b0d21",
   "metadata": {},
   "outputs": [
    {
     "data": {
      "image/png": "[encoded data removed]",
      "text/plain": [
       "<Figure size 640x480 with 1 Axes>"
      ]
     },
     "metadata": {},
     "output_type": "display_data"
    }
   ],
   "source": [
    "n_agents = 4\n",
    "\n",
    "G = nx.DiGraph()\n",
    "G.add_nodes_from(list(range(1, n_agents+1)))\n",
    "G.add_edges_from([(1,2), (2,3), (3,4), (4,1), (1,3)])\n",
    "\n",
    "nx.draw(G, with_labels=True)"
   ]
  },
  {
   "cell_type": "code",
   "execution_count": 169,
   "id": "6335fcb4",
   "metadata": {},
   "outputs": [
    {
     "name": "stdout",
     "output_type": "stream",
     "text": [
      "R:\n",
      "tensor([[0.5000, 0.0000, 0.0000, 0.5000],\n",
      "        [0.5000, 0.5000, 0.0000, 0.0000],\n",
      "        [0.3333, 0.3333, 0.3333, 0.0000],\n",
      "        [0.0000, 0.0000, 0.5000, 0.5000]], dtype=torch.float64)\n",
      "C:\n",
      "tensor([[0.3333, 0.0000, 0.0000, 0.5000],\n",
      "        [0.3333, 0.5000, 0.0000, 0.0000],\n",
      "        [0.3333, 0.5000, 0.5000, 0.0000],\n",
      "        [0.0000, 0.0000, 0.5000, 0.5000]], dtype=torch.float64)\n"
     ]
    }
   ],
   "source": [
    "# A is the adjacency matrix\n",
    "A = torch.tensor(nx.to_numpy_array(G))\n",
    "A.fill_diagonal_(1)\n",
    "\n",
    "# row and column stochastic matrices\n",
    "A = A.T # take the transpose since this is the direction of information flow\n",
    "\n",
    "R = A/A.sum(axis=1)[:, None]\n",
    "C = A/A.sum(axis=0)\n",
    "print(f'R:\\n{R}')\n",
    "print(f'C:\\n{C}')"
   ]
  },
  {
   "cell_type": "code",
   "execution_count": 170,
   "id": "2d5b2649",
   "metadata": {},
   "outputs": [
    {
     "name": "stdout",
     "output_type": "stream",
     "text": [
      "phi: tensor([0.3077, 0.1538, 0.2308, 0.3077], dtype=torch.float64)\n",
      "pi: tensor([0.2308, 0.1538, 0.3077, 0.3077], dtype=torch.float64)\n"
     ]
    }
   ],
   "source": [
    "# find the left and right eigenvectors with eigenvalue 1 of R and C respectively.\n",
    "phi = torch.ones(1, 4, dtype=torch.float64)\n",
    "pi = torch.ones(4, 1, dtype=torch.float64)\n",
    "\n",
    "for i in range(100):\n",
    "    phi = phi @ R\n",
    "    pi = C @ pi\n",
    "\n",
    "assert(torch.all(torch.isclose(pi, C @ pi)))\n",
    "assert(torch.all(torch.isclose(phi, phi @ R)))\n",
    "\n",
    "phi, pi = phi.flatten(), pi.flatten()\n",
    "print(f'phi: {phi/phi.sum()}')\n",
    "print(f'pi: {pi/pi.sum()}')"
   ]
  },
  {
   "cell_type": "code",
   "execution_count": 175,
   "id": "75a589b8",
   "metadata": {},
   "outputs": [
    {
     "name": "stdout",
     "output_type": "stream",
     "text": [
      "tensor([[4.0000, 3.0000],\n",
      "        [4.0000, 3.0000],\n",
      "        [4.0000, 3.0000],\n",
      "        [4.0000, 3.0000]], dtype=torch.float64)\n"
     ]
    }
   ],
   "source": [
    "with torch.no_grad():\n",
    "    w = R @ x\n",
    "    print(w)"
   ]
  },
  {
   "cell_type": "code",
   "execution_count": null,
   "id": "299a073c",
   "metadata": {},
   "outputs": [],
   "source": []
  }
 ],
 "metadata": {
  "kernelspec": {
   "display_name": "Python 3 (ipykernel)",
   "language": "python",
   "name": "python3"
  },
  "language_info": {
   "codemirror_mode": {
    "name": "ipython",
    "version": 3
   },
   "file_extension": ".py",
   "mimetype": "text/x-python",
   "name": "python",
   "nbconvert_exporter": "python",
   "pygments_lexer": "ipython3",
   "version": "3.10.6"
  }
 },
 "nbformat": 4,
 "nbformat_minor": 5
}
